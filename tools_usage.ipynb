{
 "cells": [
  {
   "cell_type": "code",
   "execution_count": 1,
   "metadata": {},
   "outputs": [],
   "source": [
    "from pathlib import Path"
   ]
  },
  {
   "cell_type": "code",
   "execution_count": 1,
   "metadata": {},
   "outputs": [
    {
     "name": "stdout",
     "output_type": "stream",
     "text": [
      "[INFO] SoulKnightReplayRecorder: \n",
      "\t- Action record path: c:\\Users\\EnricLiu\\Desktop\\Projects\\SoulKnightMaster\\tools\\replay_recorder\\out\\record_20241223-17_16_09\\action.txt\n",
      "\t- Screen record path: c:\\Users\\EnricLiu\\Desktop\\Projects\\SoulKnightMaster\\tools\\replay_recorder\\out\\record_20241223-17_16_09\\screen.mp4\n",
      "\t- Screen record duration: 10s\n",
      "\n",
      "Recording will start in 5 seconds...\n",
      "[debug] screen recorder: Display is 1280x720 @60.00fps (orientation=ROTATION_90), layerStack=2\n",
      "[debug] screen recorder: Configuring recorder for 1280x720 video/avc at 20.00Mbps\n",
      "[debug] screen recorder: Content area is 1280x720 at offset x=0 y=0\n",
      "SoulKnightReplayRecorder: Start Recording!\n",
      "[debug] screen recorder: Time limit reached\n",
      "[debug] screen recorder: Encoder stopping; recorded 601 frames in 10 seconds\n",
      "[debug] screen recorder: Stopping encoder and muxer\n",
      "[debug] screen recorder: Executing: /system/bin/am broadcast -a android.intent.action.MEDIA_SCANNER_SCAN_FILE -d file:///sdcard/soul_knight_master/_ScrnRcdr_buf_1734945374.0981035.mp4\n",
      "[debug] screen recorder: Broadcasting: Intent { act=android.intent.action.MEDIA_SCANNER_SCAN_FILE dat=file:///sdcard/soul_knight_master/_ScrnRcdr_buf_1734945374.0981035.mp4 flg=0x400000 }\n",
      "[debug] screen recorder: Broadcast completed: result=0\n",
      "Record Finished! Saving...\n"
     ]
    },
    {
     "data": {
      "text/plain": [
       "{'frame_size': ['1280', '720'],\n",
       " 'encoding': 'video/avc',\n",
       " 'bitrate': '20.00Mbps',\n",
       " 'frame_count': '601',\n",
       " 'duration': '10'}"
      ]
     },
     "execution_count": 1,
     "metadata": {},
     "output_type": "execute_result"
    }
   ],
   "source": [
    "import asyncio\n",
    "from tools.replay_recorder import record_replay, default_config\n",
    "\n",
    "recorder_cfg = default_config()\n",
    "await record_replay(default_config(), duration_s=10)"
   ]
  }
 ],
 "metadata": {
  "kernelspec": {
   "display_name": "Python 3",
   "language": "python",
   "name": "python3"
  },
  "language_info": {
   "codemirror_mode": {
    "name": "ipython",
    "version": 3
   },
   "file_extension": ".py",
   "mimetype": "text/x-python",
   "name": "python",
   "nbconvert_exporter": "python",
   "pygments_lexer": "ipython3",
   "version": "3.11.11"
  }
 },
 "nbformat": 4,
 "nbformat_minor": 2
}
